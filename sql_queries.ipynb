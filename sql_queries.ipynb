{
 "cells": [
  {
   "cell_type": "markdown",
   "metadata": {},
   "source": [
    "### Importing libraries"
   ]
  },
  {
   "cell_type": "code",
   "execution_count": 11,
   "metadata": {},
   "outputs": [],
   "source": [
    "import sqlite3 #default library, no need to install\n",
    "import pandas as pd\n",
    "from pathlib import Path"
   ]
  },
  {
   "cell_type": "code",
   "execution_count": 12,
   "metadata": {},
   "outputs": [],
   "source": [
    "database_demo_directory = 'demo'\n",
    "database_directory = 'mimic-iii-clinical-database-1.4'\n",
    "db = database_demo_directory"
   ]
  },
  {
   "cell_type": "markdown",
   "metadata": {},
   "source": [
    "### Converting csv files to sqlite db\n",
    "reference: https://www.mungingdata.com/sqlite/create-database-load-csv-python/"
   ]
  },
  {
   "cell_type": "code",
   "execution_count": 13,
   "metadata": {},
   "outputs": [],
   "source": [
    "Path('mimic.db').touch()\n",
    "conn = sqlite3.connect('mimic.db')\n",
    "c = conn.cursor()"
   ]
  },
  {
   "cell_type": "code",
   "execution_count": 14,
   "metadata": {},
   "outputs": [
    {
     "data": {
      "text/plain": [
       "Index(['row_id', 'subject_id', 'gender', 'dob', 'dod', 'dod_hosp', 'dod_ssn',\n",
       "       'expire_flag'],\n",
       "      dtype='object')"
      ]
     },
     "execution_count": 14,
     "metadata": {},
     "output_type": "execute_result"
    }
   ],
   "source": [
    "patients = pd.read_csv(f'{db}/patients.csv')\n",
    "patients.columns"
   ]
  },
  {
   "cell_type": "markdown",
   "metadata": {},
   "source": [
    "### Function to create database tables from a csv file"
   ]
  },
  {
   "cell_type": "code",
   "execution_count": 30,
   "metadata": {},
   "outputs": [],
   "source": [
    "NUM_ROWS = 1000"
   ]
  },
  {
   "cell_type": "code",
   "execution_count": 16,
   "metadata": {},
   "outputs": [],
   "source": [
    "def create_and_populate_table_from_csv(file_name, db_name='mimic.db', num_rows=None):\n",
    "    df = pd.read_csv(file_name)\n",
    "\n",
    "    if num_rows is not None:\n",
    "        df = df.head(num_rows)\n",
    "\n",
    "    table_name = Path(file_name).stem\n",
    "\n",
    "    Path(db_name).touch()\n",
    "\n",
    "    conn = sqlite3.connect(db_name)\n",
    "    c = conn.cursor()\n",
    "\n",
    "    columns = ', '.join([f\"{col} TEXT\" for col in df.columns])\n",
    "    create_table_query = f\"CREATE TABLE IF NOT EXISTS {table_name} ({columns});\"\n",
    "    print(f\"query for creating table: {table_name} - {create_table_query}\\n\")\n",
    "    c.execute(create_table_query)\n",
    "\n",
    "    for _, row in df.iterrows():\n",
    "        placeholders = ', '.join(['?'] * len(row))\n",
    "        insert_query = f\"INSERT INTO {table_name} VALUES ({placeholders});\"\n",
    "        c.execute(insert_query, tuple(row))\n",
    "\n",
    "    conn.commit()\n",
    "    conn.close()\n"
   ]
  },
  {
   "cell_type": "markdown",
   "metadata": {},
   "source": [
    "For writing queries, I just referred to the documentation of [SQLite](https://docs.python.org/3/library/sqlite3.html#how-to-register-adapter-callables)"
   ]
  },
  {
   "cell_type": "markdown",
   "metadata": {},
   "source": [
    "### Query 1 \n",
    "Creating all tables"
   ]
  },
  {
   "cell_type": "code",
   "execution_count": null,
   "metadata": {},
   "outputs": [
    {
     "name": "stdout",
     "output_type": "stream",
     "text": [
      "query for creating table: PROCEDUREEVENTS_MV - CREATE TABLE IF NOT EXISTS PROCEDUREEVENTS_MV (row_id TEXT, subject_id TEXT, hadm_id TEXT, icustay_id TEXT, starttime TEXT, endtime TEXT, itemid TEXT, value TEXT, valueuom TEXT, location TEXT, locationcategory TEXT, storetime TEXT, cgid TEXT, orderid TEXT, linkorderid TEXT, ordercategoryname TEXT, secondaryordercategoryname TEXT, ordercategorydescription TEXT, isopenbag TEXT, continueinnextdept TEXT, cancelreason TEXT, statusdescription TEXT, comments_editedby TEXT, comments_canceledby TEXT, comments_date TEXT);\n",
      "\n",
      "query for creating table: CALLOUT - CREATE TABLE IF NOT EXISTS CALLOUT (row_id TEXT, subject_id TEXT, hadm_id TEXT, submit_wardid TEXT, submit_careunit TEXT, curr_wardid TEXT, curr_careunit TEXT, callout_wardid TEXT, callout_service TEXT, request_tele TEXT, request_resp TEXT, request_cdiff TEXT, request_mrsa TEXT, request_vre TEXT, callout_status TEXT, callout_outcome TEXT, discharge_wardid TEXT, acknowledge_status TEXT, createtime TEXT, updatetime TEXT, acknowledgetime TEXT, outcometime TEXT, firstreservationtime TEXT, currentreservationtime TEXT);\n",
      "\n",
      "query for creating table: D_CPT - CREATE TABLE IF NOT EXISTS D_CPT (row_id TEXT, category TEXT, sectionrange TEXT, sectionheader TEXT, subsectionrange TEXT, subsectionheader TEXT, codesuffix TEXT, mincodeinsubsection TEXT, maxcodeinsubsection TEXT);\n",
      "\n",
      "query for creating table: D_ITEMS - CREATE TABLE IF NOT EXISTS D_ITEMS (row_id TEXT, itemid TEXT, label TEXT, abbreviation TEXT, dbsource TEXT, linksto TEXT, category TEXT, unitname TEXT, param_type TEXT, conceptid TEXT);\n",
      "\n",
      "query for creating table: CAREGIVERS - CREATE TABLE IF NOT EXISTS CAREGIVERS (row_id TEXT, cgid TEXT, label TEXT, description TEXT);\n",
      "\n",
      "query for creating table: MICROBIOLOGYEVENTS - CREATE TABLE IF NOT EXISTS MICROBIOLOGYEVENTS (row_id TEXT, subject_id TEXT, hadm_id TEXT, chartdate TEXT, charttime TEXT, spec_itemid TEXT, spec_type_desc TEXT, org_itemid TEXT, org_name TEXT, isolate_num TEXT, ab_itemid TEXT, ab_name TEXT, dilution_text TEXT, dilution_comparison TEXT, dilution_value TEXT, interpretation TEXT);\n",
      "\n",
      "query for creating table: LABEVENTS - CREATE TABLE IF NOT EXISTS LABEVENTS (row_id TEXT, subject_id TEXT, hadm_id TEXT, itemid TEXT, charttime TEXT, value TEXT, valuenum TEXT, valueuom TEXT, flag TEXT);\n",
      "\n"
     ]
    },
    {
     "name": "stderr",
     "output_type": "stream",
     "text": [
      "/var/folders/4v/np_9tc295nv6q1gh0_nypyfh0000gn/T/ipykernel_86104/804355690.py:2: DtypeWarning: Columns (17,20,21) have mixed types. Specify dtype option on import or set low_memory=False.\n",
      "  df = pd.read_csv(file_name)\n"
     ]
    },
    {
     "name": "stdout",
     "output_type": "stream",
     "text": [
      "query for creating table: INPUTEVENTS_CV - CREATE TABLE IF NOT EXISTS INPUTEVENTS_CV (row_id TEXT, subject_id TEXT, hadm_id TEXT, icustay_id TEXT, charttime TEXT, itemid TEXT, amount TEXT, amountuom TEXT, rate TEXT, rateuom TEXT, storetime TEXT, cgid TEXT, orderid TEXT, linkorderid TEXT, stopped TEXT, newbottle TEXT, originalamount TEXT, originalamountuom TEXT, originalroute TEXT, originalrate TEXT, originalrateuom TEXT, originalsite TEXT);\n",
      "\n",
      "query for creating table: ADMISSIONS - CREATE TABLE IF NOT EXISTS ADMISSIONS (row_id TEXT, subject_id TEXT, hadm_id TEXT, admittime TEXT, dischtime TEXT, deathtime TEXT, admission_type TEXT, admission_location TEXT, discharge_location TEXT, insurance TEXT, language TEXT, religion TEXT, marital_status TEXT, ethnicity TEXT, edregtime TEXT, edouttime TEXT, diagnosis TEXT, hospital_expire_flag TEXT, has_chartevents_data TEXT);\n",
      "\n",
      "query for creating table: D_LABITEMS - CREATE TABLE IF NOT EXISTS D_LABITEMS (row_id TEXT, itemid TEXT, label TEXT, fluid TEXT, category TEXT, loinc_code TEXT);\n",
      "\n",
      "query for creating table: DATETIMEEVENTS - CREATE TABLE IF NOT EXISTS DATETIMEEVENTS (row_id TEXT, subject_id TEXT, hadm_id TEXT, icustay_id TEXT, itemid TEXT, charttime TEXT, storetime TEXT, cgid TEXT, value TEXT, valueuom TEXT, warning TEXT, error TEXT, resultstatus TEXT, stopped TEXT);\n",
      "\n",
      "query for creating table: PRESCRIPTIONS - CREATE TABLE IF NOT EXISTS PRESCRIPTIONS (row_id TEXT, subject_id TEXT, hadm_id TEXT, icustay_id TEXT, startdate TEXT, enddate TEXT, drug_type TEXT, drug TEXT, drug_name_poe TEXT, drug_name_generic TEXT, formulary_drug_cd TEXT, gsn TEXT, ndc TEXT, prod_strength TEXT, dose_val_rx TEXT, dose_unit_rx TEXT, form_val_disp TEXT, form_unit_disp TEXT, route TEXT);\n",
      "\n",
      "query for creating table: PROCEDURES_ICD - CREATE TABLE IF NOT EXISTS PROCEDURES_ICD (row_id TEXT, subject_id TEXT, hadm_id TEXT, seq_num TEXT, icd9_code TEXT);\n",
      "\n",
      "query for creating table: NOTEEVENTS - CREATE TABLE IF NOT EXISTS NOTEEVENTS (row_id TEXT, subject_id TEXT, hadm_id TEXT, chartdate TEXT, charttime TEXT, storetime TEXT, category TEXT, description TEXT, cgid TEXT, iserror TEXT, text TEXT);\n",
      "\n"
     ]
    },
    {
     "name": "stderr",
     "output_type": "stream",
     "text": [
      "/var/folders/4v/np_9tc295nv6q1gh0_nypyfh0000gn/T/ipykernel_86104/804355690.py:2: DtypeWarning: Columns (8,10,13,14) have mixed types. Specify dtype option on import or set low_memory=False.\n",
      "  df = pd.read_csv(file_name)\n"
     ]
    },
    {
     "name": "stdout",
     "output_type": "stream",
     "text": [
      "query for creating table: CHARTEVENTS - CREATE TABLE IF NOT EXISTS CHARTEVENTS (row_id TEXT, subject_id TEXT, hadm_id TEXT, icustay_id TEXT, itemid TEXT, charttime TEXT, storetime TEXT, cgid TEXT, value TEXT, valuenum TEXT, valueuom TEXT, warning TEXT, error TEXT, resultstatus TEXT, stopped TEXT);\n",
      "\n",
      "query for creating table: TRANSFERS - CREATE TABLE IF NOT EXISTS TRANSFERS (row_id TEXT, subject_id TEXT, hadm_id TEXT, icustay_id TEXT, dbsource TEXT, eventtype TEXT, prev_careunit TEXT, curr_careunit TEXT, prev_wardid TEXT, curr_wardid TEXT, intime TEXT, outtime TEXT, los TEXT);\n",
      "\n",
      "query for creating table: DIAGNOSES_ICD - CREATE TABLE IF NOT EXISTS DIAGNOSES_ICD (row_id TEXT, subject_id TEXT, hadm_id TEXT, seq_num TEXT, icd9_code TEXT);\n",
      "\n",
      "query for creating table: SERVICES - CREATE TABLE IF NOT EXISTS SERVICES (row_id TEXT, subject_id TEXT, hadm_id TEXT, transfertime TEXT, prev_service TEXT, curr_service TEXT);\n",
      "\n",
      "query for creating table: DRGCODES - CREATE TABLE IF NOT EXISTS DRGCODES (row_id TEXT, subject_id TEXT, hadm_id TEXT, drg_type TEXT, drg_code TEXT, description TEXT, drg_severity TEXT, drg_mortality TEXT);\n",
      "\n",
      "query for creating table: OUTPUTEVENTS - CREATE TABLE IF NOT EXISTS OUTPUTEVENTS (row_id TEXT, subject_id TEXT, hadm_id TEXT, icustay_id TEXT, charttime TEXT, itemid TEXT, value TEXT, valueuom TEXT, storetime TEXT, cgid TEXT, stopped TEXT, newbottle TEXT, iserror TEXT);\n",
      "\n",
      "query for creating table: PATIENTS - CREATE TABLE IF NOT EXISTS PATIENTS (row_id TEXT, subject_id TEXT, gender TEXT, dob TEXT, dod TEXT, dod_hosp TEXT, dod_ssn TEXT, expire_flag TEXT);\n",
      "\n",
      "query for creating table: D_ICD_DIAGNOSES - CREATE TABLE IF NOT EXISTS D_ICD_DIAGNOSES (row_id TEXT, icd9_code TEXT, short_title TEXT, long_title TEXT);\n",
      "\n",
      "query for creating table: ICUSTAYS - CREATE TABLE IF NOT EXISTS ICUSTAYS (row_id TEXT, subject_id TEXT, hadm_id TEXT, icustay_id TEXT, dbsource TEXT, first_careunit TEXT, last_careunit TEXT, first_wardid TEXT, last_wardid TEXT, intime TEXT, outtime TEXT, los TEXT);\n",
      "\n",
      "query for creating table: INPUTEVENTS_MV - CREATE TABLE IF NOT EXISTS INPUTEVENTS_MV (row_id TEXT, subject_id TEXT, hadm_id TEXT, icustay_id TEXT, starttime TEXT, endtime TEXT, itemid TEXT, amount TEXT, amountuom TEXT, rate TEXT, rateuom TEXT, storetime TEXT, cgid TEXT, orderid TEXT, linkorderid TEXT, ordercategoryname TEXT, secondaryordercategoryname TEXT, ordercomponenttypedescription TEXT, ordercategorydescription TEXT, patientweight TEXT, totalamount TEXT, totalamountuom TEXT, isopenbag TEXT, continueinnextdept TEXT, cancelreason TEXT, statusdescription TEXT, comments_editedby TEXT, comments_canceledby TEXT, comments_date TEXT, originalamount TEXT, originalrate TEXT);\n",
      "\n",
      "query for creating table: D_ICD_PROCEDURES - CREATE TABLE IF NOT EXISTS D_ICD_PROCEDURES (row_id TEXT, icd9_code TEXT, short_title TEXT, long_title TEXT);\n",
      "\n",
      "query for creating table: CPTEVENTS - CREATE TABLE IF NOT EXISTS CPTEVENTS (row_id TEXT, subject_id TEXT, hadm_id TEXT, costcenter TEXT, chartdate TEXT, cpt_cd TEXT, cpt_number TEXT, cpt_suffix TEXT, ticket_id_seq TEXT, sectionheader TEXT, subsectionheader TEXT, description TEXT);\n",
      "\n"
     ]
    }
   ],
   "source": [
    "for file in Path(db).rglob('*.csv'):\n",
    "    create_and_populate_table_from_csv(file, num_rows=NUM_ROWS) #limiting the no of rows to 1000 for demo purposes"
   ]
  },
  {
   "cell_type": "markdown",
   "metadata": {},
   "source": [
    "### Query 2\n",
    "Selecting `expiry_flag` from patients table"
   ]
  },
  {
   "cell_type": "code",
   "execution_count": 25,
   "metadata": {},
   "outputs": [],
   "source": [
    "expiry_flag = c.execute(\"SELECT expire_flag from PATIENTS\")"
   ]
  },
  {
   "cell_type": "code",
   "execution_count": 26,
   "metadata": {},
   "outputs": [
    {
     "data": {
      "text/plain": [
       "[('1',),\n",
       " ('1',),\n",
       " ('1',),\n",
       " ('1',),\n",
       " ('1',),\n",
       " ('1',),\n",
       " ('1',),\n",
       " ('1',),\n",
       " ('1',),\n",
       " ('1',),\n",
       " ('1',),\n",
       " ('1',),\n",
       " ('1',),\n",
       " ('1',),\n",
       " ('1',),\n",
       " ('1',),\n",
       " ('1',),\n",
       " ('1',),\n",
       " ('1',),\n",
       " ('1',),\n",
       " ('1',),\n",
       " ('1',),\n",
       " ('1',),\n",
       " ('1',),\n",
       " ('1',),\n",
       " ('1',),\n",
       " ('1',),\n",
       " ('1',),\n",
       " ('1',),\n",
       " ('1',),\n",
       " ('1',),\n",
       " ('1',),\n",
       " ('1',),\n",
       " ('1',),\n",
       " ('1',),\n",
       " ('1',),\n",
       " ('1',),\n",
       " ('1',),\n",
       " ('1',),\n",
       " ('1',),\n",
       " ('1',),\n",
       " ('1',),\n",
       " ('1',),\n",
       " ('1',),\n",
       " ('1',),\n",
       " ('1',),\n",
       " ('1',),\n",
       " ('1',),\n",
       " ('1',),\n",
       " ('1',),\n",
       " ('1',),\n",
       " ('1',),\n",
       " ('1',),\n",
       " ('1',),\n",
       " ('1',),\n",
       " ('1',),\n",
       " ('1',),\n",
       " ('1',),\n",
       " ('1',),\n",
       " ('1',),\n",
       " ('1',),\n",
       " ('1',),\n",
       " ('1',),\n",
       " ('1',),\n",
       " ('1',),\n",
       " ('1',),\n",
       " ('1',),\n",
       " ('1',),\n",
       " ('1',),\n",
       " ('1',),\n",
       " ('1',),\n",
       " ('1',),\n",
       " ('1',),\n",
       " ('1',),\n",
       " ('1',),\n",
       " ('1',),\n",
       " ('1',),\n",
       " ('1',),\n",
       " ('1',),\n",
       " ('1',),\n",
       " ('1',),\n",
       " ('1',),\n",
       " ('1',),\n",
       " ('1',),\n",
       " ('1',),\n",
       " ('1',),\n",
       " ('1',),\n",
       " ('1',),\n",
       " ('1',),\n",
       " ('1',),\n",
       " ('1',),\n",
       " ('1',),\n",
       " ('1',),\n",
       " ('1',),\n",
       " ('1',),\n",
       " ('1',),\n",
       " ('1',),\n",
       " ('1',),\n",
       " ('1',),\n",
       " ('1',),\n",
       " ('1',),\n",
       " ('1',),\n",
       " ('1',),\n",
       " ('1',),\n",
       " ('1',),\n",
       " ('1',),\n",
       " ('1',),\n",
       " ('1',),\n",
       " ('1',),\n",
       " ('1',),\n",
       " ('1',),\n",
       " ('1',),\n",
       " ('1',),\n",
       " ('1',),\n",
       " ('1',),\n",
       " ('1',),\n",
       " ('1',),\n",
       " ('1',),\n",
       " ('1',),\n",
       " ('1',),\n",
       " ('1',),\n",
       " ('1',),\n",
       " ('1',),\n",
       " ('1',),\n",
       " ('1',),\n",
       " ('1',),\n",
       " ('1',),\n",
       " ('1',),\n",
       " ('1',),\n",
       " ('1',),\n",
       " ('1',),\n",
       " ('1',),\n",
       " ('1',),\n",
       " ('1',),\n",
       " ('1',),\n",
       " ('1',),\n",
       " ('1',),\n",
       " ('1',),\n",
       " ('1',),\n",
       " ('1',),\n",
       " ('1',),\n",
       " ('1',),\n",
       " ('1',),\n",
       " ('1',),\n",
       " ('1',),\n",
       " ('1',),\n",
       " ('1',),\n",
       " ('1',),\n",
       " ('1',),\n",
       " ('1',),\n",
       " ('1',),\n",
       " ('1',),\n",
       " ('1',),\n",
       " ('1',),\n",
       " ('1',),\n",
       " ('1',),\n",
       " ('1',),\n",
       " ('1',),\n",
       " ('1',),\n",
       " ('1',),\n",
       " ('1',),\n",
       " ('1',),\n",
       " ('1',),\n",
       " ('1',),\n",
       " ('1',),\n",
       " ('1',),\n",
       " ('1',),\n",
       " ('1',),\n",
       " ('1',),\n",
       " ('1',),\n",
       " ('1',),\n",
       " ('1',),\n",
       " ('1',),\n",
       " ('1',),\n",
       " ('1',),\n",
       " ('1',),\n",
       " ('1',),\n",
       " ('1',),\n",
       " ('1',),\n",
       " ('1',),\n",
       " ('1',),\n",
       " ('1',),\n",
       " ('1',),\n",
       " ('1',),\n",
       " ('1',),\n",
       " ('1',),\n",
       " ('1',),\n",
       " ('1',),\n",
       " ('1',),\n",
       " ('1',),\n",
       " ('1',),\n",
       " ('1',),\n",
       " ('1',),\n",
       " ('1',),\n",
       " ('1',),\n",
       " ('1',),\n",
       " ('1',),\n",
       " ('1',),\n",
       " ('1',),\n",
       " ('1',)]"
      ]
     },
     "execution_count": 26,
     "metadata": {},
     "output_type": "execute_result"
    }
   ],
   "source": [
    "expiry_flag.fetchall()"
   ]
  },
  {
   "cell_type": "markdown",
   "metadata": {},
   "source": [
    "counting how many people out of admitted patients passed away (mortality rate)"
   ]
  },
  {
   "cell_type": "code",
   "execution_count": null,
   "metadata": {},
   "outputs": [
    {
     "name": "stdout",
     "output_type": "stream",
     "text": [
      "Total number of patients who have expired: 200 and the percentage is 0.2*100%\n"
     ]
    },
    {
     "data": {
      "text/plain": [
       "(None,)"
      ]
     },
     "execution_count": 32,
     "metadata": {},
     "output_type": "execute_result"
    }
   ],
   "source": [
    "## get percentage of patients who have expired\n",
    "mortality = c.execute(\"SELECT COUNT(*) FROM PATIENTS WHERE expire_flag = 1;\")\n",
    "mortality = mortality.fetchall()[0][0]\n",
    "print(f\"Total number of patients who have expired: {mortality} and the percentage is {mortality/NUM_ROWS}%\"), "
   ]
  },
  {
   "cell_type": "markdown",
   "metadata": {},
   "source": [
    "### Grouping patient admissions with ethnicity and religion"
   ]
  },
  {
   "cell_type": "code",
   "execution_count": 36,
   "metadata": {},
   "outputs": [
    {
     "data": {
      "text/plain": [
       "[(None, 0),\n",
       " ('BUDDHIST', 2),\n",
       " ('CATHOLIC', 118),\n",
       " ('CHRISTIAN SCIENTIST', 6),\n",
       " ('JEWISH', 20),\n",
       " ('MUSLIM', 4),\n",
       " ('NOT SPECIFIED', 38),\n",
       " ('OTHER', 8),\n",
       " ('PROTESTANT QUAKER', 20),\n",
       " ('ROMANIAN EAST. ORTH', 2),\n",
       " ('UNOBTAINABLE', 38)]"
      ]
     },
     "execution_count": 36,
     "metadata": {},
     "output_type": "execute_result"
    }
   ],
   "source": [
    "religions_of_patients = c.execute(\"SELECT religion, COUNT(religion) FROM ADMISSIONS GROUP BY religion;\")\n",
    "religions_of_patients.fetchall()"
   ]
  },
  {
   "cell_type": "code",
   "execution_count": 38,
   "metadata": {},
   "outputs": [
    {
     "data": {
      "text/plain": [
       "[('AMERICAN INDIAN/ALASKA NATIVE FEDERALLY RECOGNIZED TRIBE', 4),\n",
       " ('ASIAN', 4),\n",
       " ('BLACK/AFRICAN AMERICAN', 14),\n",
       " ('HISPANIC OR LATINO', 4),\n",
       " ('HISPANIC/LATINO - PUERTO RICAN', 30),\n",
       " ('OTHER', 6),\n",
       " ('UNABLE TO OBTAIN', 2),\n",
       " ('UNKNOWN/NOT SPECIFIED', 22),\n",
       " ('WHITE', 172)]"
      ]
     },
     "execution_count": 38,
     "metadata": {},
     "output_type": "execute_result"
    }
   ],
   "source": [
    "ethnicities_of_patients = c.execute(\"SELECT ethnicity, COUNT(ethnicity) FROM ADMISSIONS GROUP BY ethnicity;\")\n",
    "ethnicities_of_patients.fetchall()"
   ]
  },
  {
   "cell_type": "code",
   "execution_count": 41,
   "metadata": {},
   "outputs": [
    {
     "data": {
      "text/plain": [
       "[('religion', None, 0),\n",
       " ('religion', 'BUDDHIST', 2),\n",
       " ('religion', 'CATHOLIC', 118),\n",
       " ('religion', 'CHRISTIAN SCIENTIST', 6),\n",
       " ('religion', 'JEWISH', 20),\n",
       " ('religion', 'MUSLIM', 4),\n",
       " ('religion', 'NOT SPECIFIED', 38),\n",
       " ('religion', 'OTHER', 8),\n",
       " ('religion', 'PROTESTANT QUAKER', 20),\n",
       " ('religion', 'ROMANIAN EAST. ORTH', 2),\n",
       " ('religion', 'UNOBTAINABLE', 38),\n",
       " ('ethnicity', 'AMERICAN INDIAN/ALASKA NATIVE FEDERALLY RECOGNIZED TRIBE', 4),\n",
       " ('ethnicity', 'ASIAN', 4),\n",
       " ('ethnicity', 'BLACK/AFRICAN AMERICAN', 14),\n",
       " ('ethnicity', 'HISPANIC OR LATINO', 4),\n",
       " ('ethnicity', 'HISPANIC/LATINO - PUERTO RICAN', 30),\n",
       " ('ethnicity', 'OTHER', 6),\n",
       " ('ethnicity', 'UNABLE TO OBTAIN', 2),\n",
       " ('ethnicity', 'UNKNOWN/NOT SPECIFIED', 22),\n",
       " ('ethnicity', 'WHITE', 172)]"
      ]
     },
     "execution_count": 41,
     "metadata": {},
     "output_type": "execute_result"
    }
   ],
   "source": [
    "#combined query \n",
    "ethnicity_religion = c.execute(\"SELECT 'religion' AS category, religion AS value, COUNT(religion) AS count FROM ADMISSIONS GROUP BY religion UNION ALL SELECT 'ethnicity' AS category, ethnicity AS value, COUNT(ethnicity) AS count FROM ADMISSIONS GROUP BY ethnicity;\")\n",
    "ethnicity_religion.fetchall()"
   ]
  },
  {
   "cell_type": "markdown",
   "metadata": {},
   "source": [
    "### Joining ICD code diagnoses table and diagnoses icd table"
   ]
  },
  {
   "cell_type": "code",
   "execution_count": 48,
   "metadata": {},
   "outputs": [
    {
     "name": "stdout",
     "output_type": "stream",
     "text": [
      "('80', '00845', 'Int inf clstrdium dfcile', 'Intestinal infection due to Clostridium difficile', '112666', '10043', '168674', '4', '00845')\n",
      "('80', '00845', 'Int inf clstrdium dfcile', 'Intestinal infection due to Clostridium difficile', '112666', '10043', '168674', '4', '00845')\n",
      "('80', '00845', 'Int inf clstrdium dfcile', 'Intestinal infection due to Clostridium difficile', '112681', '10045', '126949', '2', '00845')\n",
      "('80', '00845', 'Int inf clstrdium dfcile', 'Intestinal infection due to Clostridium difficile', '112681', '10045', '126949', '2', '00845')\n",
      "('80', '00845', 'Int inf clstrdium dfcile', 'Intestinal infection due to Clostridium difficile', '113173', '10094', '122928', '4', '00845')\n",
      "('80', '00845', 'Int inf clstrdium dfcile', 'Intestinal infection due to Clostridium difficile', '113173', '10094', '122928', '4', '00845')\n",
      "('80', '00845', 'Int inf clstrdium dfcile', 'Intestinal infection due to Clostridium difficile', '113232', '10102', '164869', '5', '00845')\n",
      "('80', '00845', 'Int inf clstrdium dfcile', 'Intestinal infection due to Clostridium difficile', '113232', '10102', '164869', '5', '00845')\n",
      "('80', '00845', 'Int inf clstrdium dfcile', 'Intestinal infection due to Clostridium difficile', '381716', '40595', '116518', '8', '00845')\n",
      "('80', '00845', 'Int inf clstrdium dfcile', 'Intestinal infection due to Clostridium difficile', '381716', '40595', '116518', '8', '00845')\n",
      "('493', '04111', 'Mth sus Stph aur els/NOS', 'Methicillin susceptible Staphylococcus aureus in conditions classified elsewhere and of unspecified site', '113099', '10088', '168233', '10', '04111')\n",
      "('493', '04111', 'Mth sus Stph aur els/NOS', 'Methicillin susceptible Staphylococcus aureus in conditions classified elsewhere and of unspecified site', '113099', '10088', '168233', '10', '04111')\n",
      "('506', '04182', 'Bacteroides fragilis', 'Bacteroides fragilis', '113052', '10083', '134993', '23', '04182')\n",
      "('506', '04182', 'Bacteroides fragilis', 'Bacteroides fragilis', '113052', '10083', '134993', '23', '04182')\n",
      "('586', '0543', 'Herpetic encephalitis', 'Herpetic meningoencephalitis', '113258', '10106', '133283', '1', '0543')\n",
      "('586', '0543', 'Herpetic encephalitis', 'Herpetic meningoencephalitis', '113258', '10106', '133283', '1', '0543')\n",
      "('646', '0380', 'Streptococcal septicemia', 'Streptococcal septicemia', '112531', '10029', '132349', '1', '0380')\n",
      "('646', '0380', 'Streptococcal septicemia', 'Streptococcal septicemia', '112531', '10029', '132349', '1', '0380')\n",
      "('646', '0380', 'Streptococcal septicemia', 'Streptococcal septicemia', '112612', '10038', '111115', '2', '0380')\n",
      "('646', '0380', 'Streptococcal septicemia', 'Streptococcal septicemia', '112612', '10038', '111115', '2', '0380')\n"
     ]
    }
   ],
   "source": [
    "ICD_code_join = c.execute(\"SELECT * FROM D_ICD_DIAGNOSES AS t1 JOIN DIAGNOSES_ICD AS t2 ON t1.icd9_code = t2.icd9_code;\")\n",
    "ICD_code_join = ICD_code_join.fetchall()\n",
    "for row in ICD_code_join[0:20]:\n",
    "    print(row)"
   ]
  },
  {
   "cell_type": "code",
   "execution_count": 49,
   "metadata": {},
   "outputs": [
    {
     "data": {
      "text/plain": [
       "Index(['row_id', 'subject_id', 'hadm_id', 'submit_wardid', 'submit_careunit',\n",
       "       'curr_wardid', 'curr_careunit', 'callout_wardid', 'callout_service',\n",
       "       'request_tele', 'request_resp', 'request_cdiff', 'request_mrsa',\n",
       "       'request_vre', 'callout_status', 'callout_outcome', 'discharge_wardid',\n",
       "       'acknowledge_status', 'createtime', 'updatetime', 'acknowledgetime',\n",
       "       'outcometime', 'firstreservationtime', 'currentreservationtime'],\n",
       "      dtype='object')"
      ]
     },
     "execution_count": 49,
     "metadata": {},
     "output_type": "execute_result"
    }
   ],
   "source": [
    "callout = pd.read_csv(f'{db}/callout.csv')\n",
    "callout.columns"
   ]
  },
  {
   "cell_type": "code",
   "execution_count": null,
   "metadata": {},
   "outputs": [
    {
     "data": {
      "text/html": [
       "<div>\n",
       "<style scoped>\n",
       "    .dataframe tbody tr th:only-of-type {\n",
       "        vertical-align: middle;\n",
       "    }\n",
       "\n",
       "    .dataframe tbody tr th {\n",
       "        vertical-align: top;\n",
       "    }\n",
       "\n",
       "    .dataframe thead th {\n",
       "        text-align: right;\n",
       "    }\n",
       "</style>\n",
       "<table border=\"1\" class=\"dataframe\">\n",
       "  <thead>\n",
       "    <tr style=\"text-align: right;\">\n",
       "      <th></th>\n",
       "      <th>curr_careunit</th>\n",
       "      <th>request_status_count</th>\n",
       "    </tr>\n",
       "  </thead>\n",
       "  <tbody>\n",
       "    <tr>\n",
       "      <th>0</th>\n",
       "      <td>CCU</td>\n",
       "      <td>20</td>\n",
       "    </tr>\n",
       "    <tr>\n",
       "      <th>1</th>\n",
       "      <td>CSRU</td>\n",
       "      <td>6</td>\n",
       "    </tr>\n",
       "    <tr>\n",
       "      <th>2</th>\n",
       "      <td>MICU</td>\n",
       "      <td>82</td>\n",
       "    </tr>\n",
       "    <tr>\n",
       "      <th>3</th>\n",
       "      <td>SICU</td>\n",
       "      <td>38</td>\n",
       "    </tr>\n",
       "    <tr>\n",
       "      <th>4</th>\n",
       "      <td>TSICU</td>\n",
       "      <td>8</td>\n",
       "    </tr>\n",
       "  </tbody>\n",
       "</table>\n",
       "</div>"
      ],
      "text/plain": [
       "  curr_careunit  request_status_count\n",
       "0           CCU                    20\n",
       "1          CSRU                     6\n",
       "2          MICU                    82\n",
       "3          SICU                    38\n",
       "4         TSICU                     8"
      ]
     },
     "execution_count": 52,
     "metadata": {},
     "output_type": "execute_result"
    }
   ],
   "source": [
    "callout_status_per_care_unit_query = \"SELECT curr_careunit, COUNT(callout_status) AS request_status_count FROM  CALLOUT GROUP BY curr_careunit;\"\n",
    "callout_status_per_care_unit_df = pd.read_sql_query(callout_status_per_care_unit_query, conn)\n",
    "callout_status_per_care_unit_df"
   ]
  },
  {
   "cell_type": "code",
   "execution_count": null,
   "metadata": {},
   "outputs": [
    {
     "data": {
      "text/html": [
       "<div>\n",
       "<style scoped>\n",
       "    .dataframe tbody tr th:only-of-type {\n",
       "        vertical-align: middle;\n",
       "    }\n",
       "\n",
       "    .dataframe tbody tr th {\n",
       "        vertical-align: top;\n",
       "    }\n",
       "\n",
       "    .dataframe thead th {\n",
       "        text-align: right;\n",
       "    }\n",
       "</style>\n",
       "<table border=\"1\" class=\"dataframe\">\n",
       "  <thead>\n",
       "    <tr style=\"text-align: right;\">\n",
       "      <th></th>\n",
       "      <th>curr_careunit</th>\n",
       "      <th>acknowledged_count</th>\n",
       "      <th>revised_count</th>\n",
       "    </tr>\n",
       "  </thead>\n",
       "  <tbody>\n",
       "    <tr>\n",
       "      <th>0</th>\n",
       "      <td>CCU</td>\n",
       "      <td>20</td>\n",
       "      <td>0</td>\n",
       "    </tr>\n",
       "    <tr>\n",
       "      <th>1</th>\n",
       "      <td>CSRU</td>\n",
       "      <td>6</td>\n",
       "      <td>0</td>\n",
       "    </tr>\n",
       "    <tr>\n",
       "      <th>2</th>\n",
       "      <td>MICU</td>\n",
       "      <td>80</td>\n",
       "      <td>2</td>\n",
       "    </tr>\n",
       "    <tr>\n",
       "      <th>3</th>\n",
       "      <td>SICU</td>\n",
       "      <td>34</td>\n",
       "      <td>4</td>\n",
       "    </tr>\n",
       "    <tr>\n",
       "      <th>4</th>\n",
       "      <td>TSICU</td>\n",
       "      <td>8</td>\n",
       "      <td>0</td>\n",
       "    </tr>\n",
       "  </tbody>\n",
       "</table>\n",
       "</div>"
      ],
      "text/plain": [
       "  curr_careunit  acknowledged_count  revised_count\n",
       "0           CCU                  20              0\n",
       "1          CSRU                   6              0\n",
       "2          MICU                  80              2\n",
       "3          SICU                  34              4\n",
       "4         TSICU                   8              0"
      ]
     },
     "execution_count": 54,
     "metadata": {},
     "output_type": "execute_result"
    }
   ],
   "source": [
    "query = \"\"\"\n",
    "SELECT \n",
    "    curr_careunit, \n",
    "    SUM(CASE WHEN acknowledge_status = 'Acknowledged' THEN 1 ELSE 0 END) AS acknowledged_count,\n",
    "    SUM(CASE WHEN acknowledge_status = 'Revised' THEN 1 ELSE 0 END) AS revised_count\n",
    "FROM \n",
    "    CALLOUT\n",
    "GROUP BY \n",
    "    curr_careunit;\n",
    "\"\"\"\n",
    "\n",
    "acknowledge_status_per_care_unit = pd.read_sql_query(query, conn);\n",
    "acknowledge_status_per_care_unit"
   ]
  },
  {
   "cell_type": "markdown",
   "metadata": {},
   "source": [
    "### Identifying how regularly does caregivers gives prescribed drugs/solutions (this is useful if any caregiver is potentially abusing their power with drugs distribution or prescription)"
   ]
  },
  {
   "cell_type": "code",
   "execution_count": 55,
   "metadata": {},
   "outputs": [
    {
     "data": {
      "text/html": [
       "<div>\n",
       "<style scoped>\n",
       "    .dataframe tbody tr th:only-of-type {\n",
       "        vertical-align: middle;\n",
       "    }\n",
       "\n",
       "    .dataframe tbody tr th {\n",
       "        vertical-align: top;\n",
       "    }\n",
       "\n",
       "    .dataframe thead th {\n",
       "        text-align: right;\n",
       "    }\n",
       "</style>\n",
       "<table border=\"1\" class=\"dataframe\">\n",
       "  <thead>\n",
       "    <tr style=\"text-align: right;\">\n",
       "      <th></th>\n",
       "      <th>caregiver_id</th>\n",
       "      <th>caregiver_title</th>\n",
       "      <th>caregiver_description</th>\n",
       "      <th>total_events</th>\n",
       "      <th>total_amount_administered</th>\n",
       "      <th>avg_amount_per_event</th>\n",
       "    </tr>\n",
       "  </thead>\n",
       "  <tbody>\n",
       "    <tr>\n",
       "      <th>0</th>\n",
       "      <td>14605</td>\n",
       "      <td>RN</td>\n",
       "      <td>RN</td>\n",
       "      <td>252</td>\n",
       "      <td>24882.126527</td>\n",
       "      <td>98.738597</td>\n",
       "    </tr>\n",
       "    <tr>\n",
       "      <th>1</th>\n",
       "      <td>14213</td>\n",
       "      <td>RN</td>\n",
       "      <td>RN</td>\n",
       "      <td>152</td>\n",
       "      <td>29684.400615</td>\n",
       "      <td>195.292109</td>\n",
       "    </tr>\n",
       "    <tr>\n",
       "      <th>2</th>\n",
       "      <td>14695</td>\n",
       "      <td>RN</td>\n",
       "      <td>RN</td>\n",
       "      <td>64</td>\n",
       "      <td>15979.999929</td>\n",
       "      <td>249.687499</td>\n",
       "    </tr>\n",
       "    <tr>\n",
       "      <th>3</th>\n",
       "      <td>14986</td>\n",
       "      <td>RN</td>\n",
       "      <td>RN</td>\n",
       "      <td>64</td>\n",
       "      <td>16208.667013</td>\n",
       "      <td>253.260422</td>\n",
       "    </tr>\n",
       "  </tbody>\n",
       "</table>\n",
       "</div>"
      ],
      "text/plain": [
       "  caregiver_id caregiver_title caregiver_description  total_events  \\\n",
       "0        14605              RN                    RN           252   \n",
       "1        14213              RN                    RN           152   \n",
       "2        14695              RN                    RN            64   \n",
       "3        14986              RN                    RN            64   \n",
       "\n",
       "   total_amount_administered  avg_amount_per_event  \n",
       "0               24882.126527             98.738597  \n",
       "1               29684.400615            195.292109  \n",
       "2               15979.999929            249.687499  \n",
       "3               16208.667013            253.260422  "
      ]
     },
     "execution_count": 55,
     "metadata": {},
     "output_type": "execute_result"
    }
   ],
   "source": [
    "query = \"\"\"\n",
    "SELECT \n",
    "    c.cgid AS caregiver_id,\n",
    "    c.label AS caregiver_title,\n",
    "    c.description AS caregiver_description,\n",
    "    COUNT(i.row_id) AS total_events,\n",
    "    SUM(i.amount) AS total_amount_administered,\n",
    "    AVG(i.amount) AS avg_amount_per_event\n",
    "FROM \n",
    "    caregivers c\n",
    "JOIN \n",
    "    inputevents_mv i\n",
    "ON \n",
    "    c.cgid = i.cgid\n",
    "GROUP BY \n",
    "    c.cgid, c.label, c.description\n",
    "ORDER BY \n",
    "    total_events DESC;\n",
    "\"\"\"\n",
    "\n",
    "caregiver_drug_summary = pd.read_sql_query(query, conn)\n",
    "caregiver_drug_summary"
   ]
  },
  {
   "cell_type": "markdown",
   "metadata": {},
   "source": [
    "### Understanding patient mortality vs drug severity and drug mortality rates (we can understand about potent drugs and their affects through this query)"
   ]
  },
  {
   "cell_type": "code",
   "execution_count": 57,
   "metadata": {},
   "outputs": [],
   "source": [
    "query_mortality = \"\"\"\n",
    "SELECT \n",
    "    d.drg_mortality AS drug_mortality,\n",
    "    CASE \n",
    "        WHEN a.hospital_expire_flag = 1 THEN 1\n",
    "        ELSE 0\n",
    "    END AS patient_mortality\n",
    "FROM \n",
    "    DRGCODES d\n",
    "JOIN \n",
    "    ADMISSIONS a\n",
    "ON \n",
    "    d.hadm_id = a.hadm_id;\n",
    "\"\"\"\n",
    "df_mortality = pd.read_sql_query(query_mortality, conn)\n",
    "\n",
    "query_severity = \"\"\"\n",
    "SELECT \n",
    "    d.drg_severity AS drug_severity,\n",
    "    CASE \n",
    "        WHEN a.hospital_expire_flag = 1 THEN 1\n",
    "        ELSE 0\n",
    "    END AS patient_mortality\n",
    "FROM \n",
    "    DRGCODES d\n",
    "JOIN \n",
    "    ADMISSIONS a\n",
    "ON \n",
    "    d.hadm_id = a.hadm_id;\n",
    "\"\"\"\n",
    "df_severity = pd.read_sql_query(query_severity, conn)"
   ]
  },
  {
   "cell_type": "code",
   "execution_count": 58,
   "metadata": {},
   "outputs": [
    {
     "data": {
      "text/html": [
       "<div>\n",
       "<style scoped>\n",
       "    .dataframe tbody tr th:only-of-type {\n",
       "        vertical-align: middle;\n",
       "    }\n",
       "\n",
       "    .dataframe tbody tr th {\n",
       "        vertical-align: top;\n",
       "    }\n",
       "\n",
       "    .dataframe thead th {\n",
       "        text-align: right;\n",
       "    }\n",
       "</style>\n",
       "<table border=\"1\" class=\"dataframe\">\n",
       "  <thead>\n",
       "    <tr style=\"text-align: right;\">\n",
       "      <th></th>\n",
       "      <th>drug_mortality</th>\n",
       "      <th>patient_mortality</th>\n",
       "    </tr>\n",
       "  </thead>\n",
       "  <tbody>\n",
       "    <tr>\n",
       "      <th>0</th>\n",
       "      <td>None</td>\n",
       "      <td>0</td>\n",
       "    </tr>\n",
       "    <tr>\n",
       "      <th>1</th>\n",
       "      <td>None</td>\n",
       "      <td>0</td>\n",
       "    </tr>\n",
       "    <tr>\n",
       "      <th>2</th>\n",
       "      <td>None</td>\n",
       "      <td>0</td>\n",
       "    </tr>\n",
       "    <tr>\n",
       "      <th>3</th>\n",
       "      <td>None</td>\n",
       "      <td>0</td>\n",
       "    </tr>\n",
       "    <tr>\n",
       "      <th>4</th>\n",
       "      <td>None</td>\n",
       "      <td>0</td>\n",
       "    </tr>\n",
       "    <tr>\n",
       "      <th>...</th>\n",
       "      <td>...</td>\n",
       "      <td>...</td>\n",
       "    </tr>\n",
       "    <tr>\n",
       "      <th>1183</th>\n",
       "      <td>4.0</td>\n",
       "      <td>0</td>\n",
       "    </tr>\n",
       "    <tr>\n",
       "      <th>1184</th>\n",
       "      <td>4.0</td>\n",
       "      <td>0</td>\n",
       "    </tr>\n",
       "    <tr>\n",
       "      <th>1185</th>\n",
       "      <td>4.0</td>\n",
       "      <td>0</td>\n",
       "    </tr>\n",
       "    <tr>\n",
       "      <th>1186</th>\n",
       "      <td>None</td>\n",
       "      <td>0</td>\n",
       "    </tr>\n",
       "    <tr>\n",
       "      <th>1187</th>\n",
       "      <td>None</td>\n",
       "      <td>0</td>\n",
       "    </tr>\n",
       "  </tbody>\n",
       "</table>\n",
       "<p>1188 rows × 2 columns</p>\n",
       "</div>"
      ],
      "text/plain": [
       "     drug_mortality  patient_mortality\n",
       "0              None                  0\n",
       "1              None                  0\n",
       "2              None                  0\n",
       "3              None                  0\n",
       "4              None                  0\n",
       "...             ...                ...\n",
       "1183            4.0                  0\n",
       "1184            4.0                  0\n",
       "1185            4.0                  0\n",
       "1186           None                  0\n",
       "1187           None                  0\n",
       "\n",
       "[1188 rows x 2 columns]"
      ]
     },
     "execution_count": 58,
     "metadata": {},
     "output_type": "execute_result"
    }
   ],
   "source": [
    "df_mortality"
   ]
  },
  {
   "cell_type": "code",
   "execution_count": 59,
   "metadata": {},
   "outputs": [
    {
     "data": {
      "text/html": [
       "<div>\n",
       "<style scoped>\n",
       "    .dataframe tbody tr th:only-of-type {\n",
       "        vertical-align: middle;\n",
       "    }\n",
       "\n",
       "    .dataframe tbody tr th {\n",
       "        vertical-align: top;\n",
       "    }\n",
       "\n",
       "    .dataframe thead th {\n",
       "        text-align: right;\n",
       "    }\n",
       "</style>\n",
       "<table border=\"1\" class=\"dataframe\">\n",
       "  <thead>\n",
       "    <tr style=\"text-align: right;\">\n",
       "      <th></th>\n",
       "      <th>drug_severity</th>\n",
       "      <th>patient_mortality</th>\n",
       "    </tr>\n",
       "  </thead>\n",
       "  <tbody>\n",
       "    <tr>\n",
       "      <th>0</th>\n",
       "      <td>None</td>\n",
       "      <td>0</td>\n",
       "    </tr>\n",
       "    <tr>\n",
       "      <th>1</th>\n",
       "      <td>None</td>\n",
       "      <td>0</td>\n",
       "    </tr>\n",
       "    <tr>\n",
       "      <th>2</th>\n",
       "      <td>None</td>\n",
       "      <td>0</td>\n",
       "    </tr>\n",
       "    <tr>\n",
       "      <th>3</th>\n",
       "      <td>None</td>\n",
       "      <td>0</td>\n",
       "    </tr>\n",
       "    <tr>\n",
       "      <th>4</th>\n",
       "      <td>None</td>\n",
       "      <td>0</td>\n",
       "    </tr>\n",
       "    <tr>\n",
       "      <th>...</th>\n",
       "      <td>...</td>\n",
       "      <td>...</td>\n",
       "    </tr>\n",
       "    <tr>\n",
       "      <th>1183</th>\n",
       "      <td>4.0</td>\n",
       "      <td>0</td>\n",
       "    </tr>\n",
       "    <tr>\n",
       "      <th>1184</th>\n",
       "      <td>4.0</td>\n",
       "      <td>0</td>\n",
       "    </tr>\n",
       "    <tr>\n",
       "      <th>1185</th>\n",
       "      <td>4.0</td>\n",
       "      <td>0</td>\n",
       "    </tr>\n",
       "    <tr>\n",
       "      <th>1186</th>\n",
       "      <td>None</td>\n",
       "      <td>0</td>\n",
       "    </tr>\n",
       "    <tr>\n",
       "      <th>1187</th>\n",
       "      <td>None</td>\n",
       "      <td>0</td>\n",
       "    </tr>\n",
       "  </tbody>\n",
       "</table>\n",
       "<p>1188 rows × 2 columns</p>\n",
       "</div>"
      ],
      "text/plain": [
       "     drug_severity  patient_mortality\n",
       "0             None                  0\n",
       "1             None                  0\n",
       "2             None                  0\n",
       "3             None                  0\n",
       "4             None                  0\n",
       "...            ...                ...\n",
       "1183           4.0                  0\n",
       "1184           4.0                  0\n",
       "1185           4.0                  0\n",
       "1186          None                  0\n",
       "1187          None                  0\n",
       "\n",
       "[1188 rows x 2 columns]"
      ]
     },
     "execution_count": 59,
     "metadata": {},
     "output_type": "execute_result"
    }
   ],
   "source": [
    "df_severity"
   ]
  },
  {
   "cell_type": "code",
   "execution_count": 61,
   "metadata": {},
   "outputs": [],
   "source": [
    "summary_stats_mortality = df_mortality.describe()\n",
    "summary_stats_severity = df_severity.describe()"
   ]
  },
  {
   "cell_type": "code",
   "execution_count": 62,
   "metadata": {},
   "outputs": [
    {
     "data": {
      "text/html": [
       "<div>\n",
       "<style scoped>\n",
       "    .dataframe tbody tr th:only-of-type {\n",
       "        vertical-align: middle;\n",
       "    }\n",
       "\n",
       "    .dataframe tbody tr th {\n",
       "        vertical-align: top;\n",
       "    }\n",
       "\n",
       "    .dataframe thead th {\n",
       "        text-align: right;\n",
       "    }\n",
       "</style>\n",
       "<table border=\"1\" class=\"dataframe\">\n",
       "  <thead>\n",
       "    <tr style=\"text-align: right;\">\n",
       "      <th></th>\n",
       "      <th>patient_mortality</th>\n",
       "    </tr>\n",
       "  </thead>\n",
       "  <tbody>\n",
       "    <tr>\n",
       "      <th>count</th>\n",
       "      <td>1188.000000</td>\n",
       "    </tr>\n",
       "    <tr>\n",
       "      <th>mean</th>\n",
       "      <td>0.289562</td>\n",
       "    </tr>\n",
       "    <tr>\n",
       "      <th>std</th>\n",
       "      <td>0.453750</td>\n",
       "    </tr>\n",
       "    <tr>\n",
       "      <th>min</th>\n",
       "      <td>0.000000</td>\n",
       "    </tr>\n",
       "    <tr>\n",
       "      <th>25%</th>\n",
       "      <td>0.000000</td>\n",
       "    </tr>\n",
       "    <tr>\n",
       "      <th>50%</th>\n",
       "      <td>0.000000</td>\n",
       "    </tr>\n",
       "    <tr>\n",
       "      <th>75%</th>\n",
       "      <td>1.000000</td>\n",
       "    </tr>\n",
       "    <tr>\n",
       "      <th>max</th>\n",
       "      <td>1.000000</td>\n",
       "    </tr>\n",
       "  </tbody>\n",
       "</table>\n",
       "</div>"
      ],
      "text/plain": [
       "       patient_mortality\n",
       "count        1188.000000\n",
       "mean            0.289562\n",
       "std             0.453750\n",
       "min             0.000000\n",
       "25%             0.000000\n",
       "50%             0.000000\n",
       "75%             1.000000\n",
       "max             1.000000"
      ]
     },
     "execution_count": 62,
     "metadata": {},
     "output_type": "execute_result"
    }
   ],
   "source": [
    "summary_stats_mortality"
   ]
  },
  {
   "cell_type": "code",
   "execution_count": 63,
   "metadata": {},
   "outputs": [
    {
     "data": {
      "text/html": [
       "<div>\n",
       "<style scoped>\n",
       "    .dataframe tbody tr th:only-of-type {\n",
       "        vertical-align: middle;\n",
       "    }\n",
       "\n",
       "    .dataframe tbody tr th {\n",
       "        vertical-align: top;\n",
       "    }\n",
       "\n",
       "    .dataframe thead th {\n",
       "        text-align: right;\n",
       "    }\n",
       "</style>\n",
       "<table border=\"1\" class=\"dataframe\">\n",
       "  <thead>\n",
       "    <tr style=\"text-align: right;\">\n",
       "      <th></th>\n",
       "      <th>patient_mortality</th>\n",
       "    </tr>\n",
       "  </thead>\n",
       "  <tbody>\n",
       "    <tr>\n",
       "      <th>count</th>\n",
       "      <td>1188.000000</td>\n",
       "    </tr>\n",
       "    <tr>\n",
       "      <th>mean</th>\n",
       "      <td>0.289562</td>\n",
       "    </tr>\n",
       "    <tr>\n",
       "      <th>std</th>\n",
       "      <td>0.453750</td>\n",
       "    </tr>\n",
       "    <tr>\n",
       "      <th>min</th>\n",
       "      <td>0.000000</td>\n",
       "    </tr>\n",
       "    <tr>\n",
       "      <th>25%</th>\n",
       "      <td>0.000000</td>\n",
       "    </tr>\n",
       "    <tr>\n",
       "      <th>50%</th>\n",
       "      <td>0.000000</td>\n",
       "    </tr>\n",
       "    <tr>\n",
       "      <th>75%</th>\n",
       "      <td>1.000000</td>\n",
       "    </tr>\n",
       "    <tr>\n",
       "      <th>max</th>\n",
       "      <td>1.000000</td>\n",
       "    </tr>\n",
       "  </tbody>\n",
       "</table>\n",
       "</div>"
      ],
      "text/plain": [
       "       patient_mortality\n",
       "count        1188.000000\n",
       "mean            0.289562\n",
       "std             0.453750\n",
       "min             0.000000\n",
       "25%             0.000000\n",
       "50%             0.000000\n",
       "75%             1.000000\n",
       "max             1.000000"
      ]
     },
     "execution_count": 63,
     "metadata": {},
     "output_type": "execute_result"
    }
   ],
   "source": [
    "summary_stats_severity"
   ]
  },
  {
   "cell_type": "code",
   "execution_count": 64,
   "metadata": {},
   "outputs": [
    {
     "data": {
      "image/png": "[encoded data removed]",
      "text/plain": [
       "<Figure size 640x480 with 1 Axes>"
      ]
     },
     "metadata": {},
     "output_type": "display_data"
    },
    {
     "data": {
      "image/png": "[encoded data removed]",
      "text/plain": [
       "<Figure size 640x480 with 1 Axes>"
      ]
     },
     "metadata": {},
     "output_type": "display_data"
    }
   ],
   "source": [
    "import seaborn as sns\n",
    "import matplotlib.pyplot as plt\n",
    "\n",
    "# Scatter plot for drug mortality vs patient mortality\n",
    "sns.scatterplot(x='drug_mortality', y='patient_mortality', data=df_mortality)\n",
    "plt.title('Drug Mortality vs Patient Mortality')\n",
    "plt.xlabel('Drug Mortality')\n",
    "plt.ylabel('Patient Mortality')\n",
    "plt.show()\n",
    "\n",
    "# Scatter plot for drug severity vs patient mortality\n",
    "sns.scatterplot(x='drug_severity', y='patient_mortality', data=df_severity)\n",
    "plt.title('Drug Severity vs Patient Mortality')\n",
    "plt.xlabel('Drug Severity')\n",
    "plt.ylabel('Patient Mortality')\n",
    "plt.show()\n"
   ]
  },
  {
   "cell_type": "code",
   "execution_count": null,
   "metadata": {},
   "outputs": [],
   "source": []
  }
 ],
 "metadata": {
  "kernelspec": {
   "display_name": "viz",
   "language": "python",
   "name": "python3"
  },
  "language_info": {
   "codemirror_mode": {
    "name": "ipython",
    "version": 3
   },
   "file_extension": ".py",
   "mimetype": "text/x-python",
   "name": "python",
   "nbconvert_exporter": "python",
   "pygments_lexer": "ipython3",
   "version": "3.13.2"
  }
 },
 "nbformat": 4,
 "nbformat_minor": 2
}
